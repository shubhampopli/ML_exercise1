{
 "cells": [
  {
   "cell_type": "code",
   "execution_count": 1,
   "id": "united-enhancement",
   "metadata": {},
   "outputs": [],
   "source": [
    "import pandas as pd\n",
    "import numpy as np\n",
    "import matplotlib.pyplot as plt\n",
    "import seaborn as sns"
   ]
  },
  {
   "cell_type": "code",
   "execution_count": 2,
   "id": "administrative-import",
   "metadata": {},
   "outputs": [],
   "source": [
    "df = pd.read_csv('Churn_Modelling.csv', index_col='RowNumber')"
   ]
  },
  {
   "cell_type": "code",
   "execution_count": 3,
   "id": "recorded-chair",
   "metadata": {},
   "outputs": [
    {
     "data": {
      "text/plain": [
       "CustomerId         0\n",
       "Surname            0\n",
       "CreditScore        0\n",
       "Geography          0\n",
       "Gender             0\n",
       "Age                0\n",
       "Tenure             0\n",
       "Balance            0\n",
       "NumOfProducts      0\n",
       "HasCrCard          0\n",
       "IsActiveMember     0\n",
       "EstimatedSalary    0\n",
       "Exited             0\n",
       "dtype: int64"
      ]
     },
     "execution_count": 3,
     "metadata": {},
     "output_type": "execute_result"
    }
   ],
   "source": [
    "df.isnull().sum()"
   ]
  },
  {
   "cell_type": "code",
   "execution_count": 4,
   "id": "mental-ability",
   "metadata": {},
   "outputs": [
    {
     "data": {
      "text/html": [
       "<div>\n",
       "<style scoped>\n",
       "    .dataframe tbody tr th:only-of-type {\n",
       "        vertical-align: middle;\n",
       "    }\n",
       "\n",
       "    .dataframe tbody tr th {\n",
       "        vertical-align: top;\n",
       "    }\n",
       "\n",
       "    .dataframe thead th {\n",
       "        text-align: right;\n",
       "    }\n",
       "</style>\n",
       "<table border=\"1\" class=\"dataframe\">\n",
       "  <thead>\n",
       "    <tr style=\"text-align: right;\">\n",
       "      <th></th>\n",
       "      <th>CustomerId</th>\n",
       "      <th>Surname</th>\n",
       "      <th>CreditScore</th>\n",
       "      <th>Geography</th>\n",
       "      <th>Gender</th>\n",
       "      <th>Age</th>\n",
       "      <th>Tenure</th>\n",
       "      <th>Balance</th>\n",
       "      <th>NumOfProducts</th>\n",
       "      <th>HasCrCard</th>\n",
       "      <th>IsActiveMember</th>\n",
       "      <th>EstimatedSalary</th>\n",
       "      <th>Exited</th>\n",
       "    </tr>\n",
       "    <tr>\n",
       "      <th>RowNumber</th>\n",
       "      <th></th>\n",
       "      <th></th>\n",
       "      <th></th>\n",
       "      <th></th>\n",
       "      <th></th>\n",
       "      <th></th>\n",
       "      <th></th>\n",
       "      <th></th>\n",
       "      <th></th>\n",
       "      <th></th>\n",
       "      <th></th>\n",
       "      <th></th>\n",
       "      <th></th>\n",
       "    </tr>\n",
       "  </thead>\n",
       "  <tbody>\n",
       "    <tr>\n",
       "      <th>1</th>\n",
       "      <td>15634602</td>\n",
       "      <td>Hargrave</td>\n",
       "      <td>619</td>\n",
       "      <td>France</td>\n",
       "      <td>Female</td>\n",
       "      <td>42</td>\n",
       "      <td>2</td>\n",
       "      <td>0.00</td>\n",
       "      <td>1</td>\n",
       "      <td>1</td>\n",
       "      <td>1</td>\n",
       "      <td>101348.88</td>\n",
       "      <td>1</td>\n",
       "    </tr>\n",
       "    <tr>\n",
       "      <th>2</th>\n",
       "      <td>15647311</td>\n",
       "      <td>Hill</td>\n",
       "      <td>608</td>\n",
       "      <td>Spain</td>\n",
       "      <td>Female</td>\n",
       "      <td>41</td>\n",
       "      <td>1</td>\n",
       "      <td>83807.86</td>\n",
       "      <td>1</td>\n",
       "      <td>0</td>\n",
       "      <td>1</td>\n",
       "      <td>112542.58</td>\n",
       "      <td>0</td>\n",
       "    </tr>\n",
       "    <tr>\n",
       "      <th>3</th>\n",
       "      <td>15619304</td>\n",
       "      <td>Onio</td>\n",
       "      <td>502</td>\n",
       "      <td>France</td>\n",
       "      <td>Female</td>\n",
       "      <td>42</td>\n",
       "      <td>8</td>\n",
       "      <td>159660.80</td>\n",
       "      <td>3</td>\n",
       "      <td>1</td>\n",
       "      <td>0</td>\n",
       "      <td>113931.57</td>\n",
       "      <td>1</td>\n",
       "    </tr>\n",
       "    <tr>\n",
       "      <th>4</th>\n",
       "      <td>15701354</td>\n",
       "      <td>Boni</td>\n",
       "      <td>699</td>\n",
       "      <td>France</td>\n",
       "      <td>Female</td>\n",
       "      <td>39</td>\n",
       "      <td>1</td>\n",
       "      <td>0.00</td>\n",
       "      <td>2</td>\n",
       "      <td>0</td>\n",
       "      <td>0</td>\n",
       "      <td>93826.63</td>\n",
       "      <td>0</td>\n",
       "    </tr>\n",
       "    <tr>\n",
       "      <th>5</th>\n",
       "      <td>15737888</td>\n",
       "      <td>Mitchell</td>\n",
       "      <td>850</td>\n",
       "      <td>Spain</td>\n",
       "      <td>Female</td>\n",
       "      <td>43</td>\n",
       "      <td>2</td>\n",
       "      <td>125510.82</td>\n",
       "      <td>1</td>\n",
       "      <td>1</td>\n",
       "      <td>1</td>\n",
       "      <td>79084.10</td>\n",
       "      <td>0</td>\n",
       "    </tr>\n",
       "  </tbody>\n",
       "</table>\n",
       "</div>"
      ],
      "text/plain": [
       "           CustomerId   Surname  CreditScore Geography  Gender  Age  Tenure  \\\n",
       "RowNumber                                                                     \n",
       "1            15634602  Hargrave          619    France  Female   42       2   \n",
       "2            15647311      Hill          608     Spain  Female   41       1   \n",
       "3            15619304      Onio          502    France  Female   42       8   \n",
       "4            15701354      Boni          699    France  Female   39       1   \n",
       "5            15737888  Mitchell          850     Spain  Female   43       2   \n",
       "\n",
       "             Balance  NumOfProducts  HasCrCard  IsActiveMember  \\\n",
       "RowNumber                                                        \n",
       "1               0.00              1          1               1   \n",
       "2           83807.86              1          0               1   \n",
       "3          159660.80              3          1               0   \n",
       "4               0.00              2          0               0   \n",
       "5          125510.82              1          1               1   \n",
       "\n",
       "           EstimatedSalary  Exited  \n",
       "RowNumber                           \n",
       "1                101348.88       1  \n",
       "2                112542.58       0  \n",
       "3                113931.57       1  \n",
       "4                 93826.63       0  \n",
       "5                 79084.10       0  "
      ]
     },
     "execution_count": 4,
     "metadata": {},
     "output_type": "execute_result"
    }
   ],
   "source": [
    "df.head(5)"
   ]
  },
  {
   "cell_type": "code",
   "execution_count": 5,
   "id": "intended-yacht",
   "metadata": {},
   "outputs": [],
   "source": [
    "df.drop(columns=['CustomerId', 'Surname'], inplace = True)"
   ]
  },
  {
   "cell_type": "code",
   "execution_count": 6,
   "id": "respected-ukraine",
   "metadata": {},
   "outputs": [
    {
     "data": {
      "text/plain": [
       "array(['France', 'Spain', 'Germany'], dtype=object)"
      ]
     },
     "execution_count": 6,
     "metadata": {},
     "output_type": "execute_result"
    }
   ],
   "source": [
    "df['Geography'].unique()"
   ]
  },
  {
   "cell_type": "code",
   "execution_count": 7,
   "id": "dangerous-visibility",
   "metadata": {},
   "outputs": [],
   "source": [
    "from sklearn.preprocessing import LabelEncoder\n",
    "labelencoder_Geo = LabelEncoder()\n",
    "df['Geography'] = labelencoder_Geo.fit_transform(df['Geography'])\n",
    "labelencoder_Gender = LabelEncoder()\n",
    "df['Gender'] = labelencoder_Gender.fit_transform(df['Gender'])"
   ]
  },
  {
   "cell_type": "code",
   "execution_count": 8,
   "id": "western-alarm",
   "metadata": {},
   "outputs": [
    {
     "data": {
      "text/html": [
       "<div>\n",
       "<style scoped>\n",
       "    .dataframe tbody tr th:only-of-type {\n",
       "        vertical-align: middle;\n",
       "    }\n",
       "\n",
       "    .dataframe tbody tr th {\n",
       "        vertical-align: top;\n",
       "    }\n",
       "\n",
       "    .dataframe thead th {\n",
       "        text-align: right;\n",
       "    }\n",
       "</style>\n",
       "<table border=\"1\" class=\"dataframe\">\n",
       "  <thead>\n",
       "    <tr style=\"text-align: right;\">\n",
       "      <th></th>\n",
       "      <th>CreditScore</th>\n",
       "      <th>Geography</th>\n",
       "      <th>Gender</th>\n",
       "      <th>Age</th>\n",
       "      <th>Tenure</th>\n",
       "      <th>Balance</th>\n",
       "      <th>NumOfProducts</th>\n",
       "      <th>HasCrCard</th>\n",
       "      <th>IsActiveMember</th>\n",
       "      <th>EstimatedSalary</th>\n",
       "      <th>Exited</th>\n",
       "    </tr>\n",
       "    <tr>\n",
       "      <th>RowNumber</th>\n",
       "      <th></th>\n",
       "      <th></th>\n",
       "      <th></th>\n",
       "      <th></th>\n",
       "      <th></th>\n",
       "      <th></th>\n",
       "      <th></th>\n",
       "      <th></th>\n",
       "      <th></th>\n",
       "      <th></th>\n",
       "      <th></th>\n",
       "    </tr>\n",
       "  </thead>\n",
       "  <tbody>\n",
       "    <tr>\n",
       "      <th>1</th>\n",
       "      <td>619</td>\n",
       "      <td>0</td>\n",
       "      <td>0</td>\n",
       "      <td>42</td>\n",
       "      <td>2</td>\n",
       "      <td>0.00</td>\n",
       "      <td>1</td>\n",
       "      <td>1</td>\n",
       "      <td>1</td>\n",
       "      <td>101348.88</td>\n",
       "      <td>1</td>\n",
       "    </tr>\n",
       "    <tr>\n",
       "      <th>2</th>\n",
       "      <td>608</td>\n",
       "      <td>2</td>\n",
       "      <td>0</td>\n",
       "      <td>41</td>\n",
       "      <td>1</td>\n",
       "      <td>83807.86</td>\n",
       "      <td>1</td>\n",
       "      <td>0</td>\n",
       "      <td>1</td>\n",
       "      <td>112542.58</td>\n",
       "      <td>0</td>\n",
       "    </tr>\n",
       "    <tr>\n",
       "      <th>3</th>\n",
       "      <td>502</td>\n",
       "      <td>0</td>\n",
       "      <td>0</td>\n",
       "      <td>42</td>\n",
       "      <td>8</td>\n",
       "      <td>159660.80</td>\n",
       "      <td>3</td>\n",
       "      <td>1</td>\n",
       "      <td>0</td>\n",
       "      <td>113931.57</td>\n",
       "      <td>1</td>\n",
       "    </tr>\n",
       "    <tr>\n",
       "      <th>4</th>\n",
       "      <td>699</td>\n",
       "      <td>0</td>\n",
       "      <td>0</td>\n",
       "      <td>39</td>\n",
       "      <td>1</td>\n",
       "      <td>0.00</td>\n",
       "      <td>2</td>\n",
       "      <td>0</td>\n",
       "      <td>0</td>\n",
       "      <td>93826.63</td>\n",
       "      <td>0</td>\n",
       "    </tr>\n",
       "    <tr>\n",
       "      <th>5</th>\n",
       "      <td>850</td>\n",
       "      <td>2</td>\n",
       "      <td>0</td>\n",
       "      <td>43</td>\n",
       "      <td>2</td>\n",
       "      <td>125510.82</td>\n",
       "      <td>1</td>\n",
       "      <td>1</td>\n",
       "      <td>1</td>\n",
       "      <td>79084.10</td>\n",
       "      <td>0</td>\n",
       "    </tr>\n",
       "  </tbody>\n",
       "</table>\n",
       "</div>"
      ],
      "text/plain": [
       "           CreditScore  Geography  Gender  Age  Tenure    Balance  \\\n",
       "RowNumber                                                           \n",
       "1                  619          0       0   42       2       0.00   \n",
       "2                  608          2       0   41       1   83807.86   \n",
       "3                  502          0       0   42       8  159660.80   \n",
       "4                  699          0       0   39       1       0.00   \n",
       "5                  850          2       0   43       2  125510.82   \n",
       "\n",
       "           NumOfProducts  HasCrCard  IsActiveMember  EstimatedSalary  Exited  \n",
       "RowNumber                                                                     \n",
       "1                      1          1               1        101348.88       1  \n",
       "2                      1          0               1        112542.58       0  \n",
       "3                      3          1               0        113931.57       1  \n",
       "4                      2          0               0         93826.63       0  \n",
       "5                      1          1               1         79084.10       0  "
      ]
     },
     "execution_count": 8,
     "metadata": {},
     "output_type": "execute_result"
    }
   ],
   "source": [
    "df.head(5)"
   ]
  },
  {
   "cell_type": "code",
   "execution_count": 9,
   "id": "governmental-works",
   "metadata": {},
   "outputs": [
    {
     "data": {
      "text/html": [
       "<div>\n",
       "<style scoped>\n",
       "    .dataframe tbody tr th:only-of-type {\n",
       "        vertical-align: middle;\n",
       "    }\n",
       "\n",
       "    .dataframe tbody tr th {\n",
       "        vertical-align: top;\n",
       "    }\n",
       "\n",
       "    .dataframe thead th {\n",
       "        text-align: right;\n",
       "    }\n",
       "</style>\n",
       "<table border=\"1\" class=\"dataframe\">\n",
       "  <thead>\n",
       "    <tr style=\"text-align: right;\">\n",
       "      <th></th>\n",
       "      <th>count</th>\n",
       "      <th>mean</th>\n",
       "      <th>std</th>\n",
       "      <th>min</th>\n",
       "      <th>25%</th>\n",
       "      <th>50%</th>\n",
       "      <th>75%</th>\n",
       "      <th>max</th>\n",
       "    </tr>\n",
       "  </thead>\n",
       "  <tbody>\n",
       "    <tr>\n",
       "      <th>CreditScore</th>\n",
       "      <td>10000.0</td>\n",
       "      <td>650.528800</td>\n",
       "      <td>96.653299</td>\n",
       "      <td>350.00</td>\n",
       "      <td>584.00</td>\n",
       "      <td>652.000</td>\n",
       "      <td>718.0000</td>\n",
       "      <td>850.00</td>\n",
       "    </tr>\n",
       "    <tr>\n",
       "      <th>Geography</th>\n",
       "      <td>10000.0</td>\n",
       "      <td>0.746300</td>\n",
       "      <td>0.827529</td>\n",
       "      <td>0.00</td>\n",
       "      <td>0.00</td>\n",
       "      <td>0.000</td>\n",
       "      <td>1.0000</td>\n",
       "      <td>2.00</td>\n",
       "    </tr>\n",
       "    <tr>\n",
       "      <th>Gender</th>\n",
       "      <td>10000.0</td>\n",
       "      <td>0.545700</td>\n",
       "      <td>0.497932</td>\n",
       "      <td>0.00</td>\n",
       "      <td>0.00</td>\n",
       "      <td>1.000</td>\n",
       "      <td>1.0000</td>\n",
       "      <td>1.00</td>\n",
       "    </tr>\n",
       "    <tr>\n",
       "      <th>Age</th>\n",
       "      <td>10000.0</td>\n",
       "      <td>38.921800</td>\n",
       "      <td>10.487806</td>\n",
       "      <td>18.00</td>\n",
       "      <td>32.00</td>\n",
       "      <td>37.000</td>\n",
       "      <td>44.0000</td>\n",
       "      <td>92.00</td>\n",
       "    </tr>\n",
       "    <tr>\n",
       "      <th>Tenure</th>\n",
       "      <td>10000.0</td>\n",
       "      <td>5.012800</td>\n",
       "      <td>2.892174</td>\n",
       "      <td>0.00</td>\n",
       "      <td>3.00</td>\n",
       "      <td>5.000</td>\n",
       "      <td>7.0000</td>\n",
       "      <td>10.00</td>\n",
       "    </tr>\n",
       "    <tr>\n",
       "      <th>Balance</th>\n",
       "      <td>10000.0</td>\n",
       "      <td>76485.889288</td>\n",
       "      <td>62397.405202</td>\n",
       "      <td>0.00</td>\n",
       "      <td>0.00</td>\n",
       "      <td>97198.540</td>\n",
       "      <td>127644.2400</td>\n",
       "      <td>250898.09</td>\n",
       "    </tr>\n",
       "    <tr>\n",
       "      <th>NumOfProducts</th>\n",
       "      <td>10000.0</td>\n",
       "      <td>1.530200</td>\n",
       "      <td>0.581654</td>\n",
       "      <td>1.00</td>\n",
       "      <td>1.00</td>\n",
       "      <td>1.000</td>\n",
       "      <td>2.0000</td>\n",
       "      <td>4.00</td>\n",
       "    </tr>\n",
       "    <tr>\n",
       "      <th>HasCrCard</th>\n",
       "      <td>10000.0</td>\n",
       "      <td>0.705500</td>\n",
       "      <td>0.455840</td>\n",
       "      <td>0.00</td>\n",
       "      <td>0.00</td>\n",
       "      <td>1.000</td>\n",
       "      <td>1.0000</td>\n",
       "      <td>1.00</td>\n",
       "    </tr>\n",
       "    <tr>\n",
       "      <th>IsActiveMember</th>\n",
       "      <td>10000.0</td>\n",
       "      <td>0.515100</td>\n",
       "      <td>0.499797</td>\n",
       "      <td>0.00</td>\n",
       "      <td>0.00</td>\n",
       "      <td>1.000</td>\n",
       "      <td>1.0000</td>\n",
       "      <td>1.00</td>\n",
       "    </tr>\n",
       "    <tr>\n",
       "      <th>EstimatedSalary</th>\n",
       "      <td>10000.0</td>\n",
       "      <td>100090.239881</td>\n",
       "      <td>57510.492818</td>\n",
       "      <td>11.58</td>\n",
       "      <td>51002.11</td>\n",
       "      <td>100193.915</td>\n",
       "      <td>149388.2475</td>\n",
       "      <td>199992.48</td>\n",
       "    </tr>\n",
       "    <tr>\n",
       "      <th>Exited</th>\n",
       "      <td>10000.0</td>\n",
       "      <td>0.203700</td>\n",
       "      <td>0.402769</td>\n",
       "      <td>0.00</td>\n",
       "      <td>0.00</td>\n",
       "      <td>0.000</td>\n",
       "      <td>0.0000</td>\n",
       "      <td>1.00</td>\n",
       "    </tr>\n",
       "  </tbody>\n",
       "</table>\n",
       "</div>"
      ],
      "text/plain": [
       "                   count           mean           std     min       25%  \\\n",
       "CreditScore      10000.0     650.528800     96.653299  350.00    584.00   \n",
       "Geography        10000.0       0.746300      0.827529    0.00      0.00   \n",
       "Gender           10000.0       0.545700      0.497932    0.00      0.00   \n",
       "Age              10000.0      38.921800     10.487806   18.00     32.00   \n",
       "Tenure           10000.0       5.012800      2.892174    0.00      3.00   \n",
       "Balance          10000.0   76485.889288  62397.405202    0.00      0.00   \n",
       "NumOfProducts    10000.0       1.530200      0.581654    1.00      1.00   \n",
       "HasCrCard        10000.0       0.705500      0.455840    0.00      0.00   \n",
       "IsActiveMember   10000.0       0.515100      0.499797    0.00      0.00   \n",
       "EstimatedSalary  10000.0  100090.239881  57510.492818   11.58  51002.11   \n",
       "Exited           10000.0       0.203700      0.402769    0.00      0.00   \n",
       "\n",
       "                        50%          75%        max  \n",
       "CreditScore         652.000     718.0000     850.00  \n",
       "Geography             0.000       1.0000       2.00  \n",
       "Gender                1.000       1.0000       1.00  \n",
       "Age                  37.000      44.0000      92.00  \n",
       "Tenure                5.000       7.0000      10.00  \n",
       "Balance           97198.540  127644.2400  250898.09  \n",
       "NumOfProducts         1.000       2.0000       4.00  \n",
       "HasCrCard             1.000       1.0000       1.00  \n",
       "IsActiveMember        1.000       1.0000       1.00  \n",
       "EstimatedSalary  100193.915  149388.2475  199992.48  \n",
       "Exited                0.000       0.0000       1.00  "
      ]
     },
     "execution_count": 9,
     "metadata": {},
     "output_type": "execute_result"
    }
   ],
   "source": [
    "df.describe().transpose()"
   ]
  },
  {
   "cell_type": "code",
   "execution_count": 10,
   "id": "disturbed-international",
   "metadata": {},
   "outputs": [],
   "source": [
    "X = df.drop('Exited',axis=1).values\n",
    "y = df['Exited'].values"
   ]
  },
  {
   "cell_type": "code",
   "execution_count": 11,
   "id": "radical-double",
   "metadata": {},
   "outputs": [],
   "source": [
    "from sklearn.model_selection import train_test_split"
   ]
  },
  {
   "cell_type": "code",
   "execution_count": 12,
   "id": "small-veteran",
   "metadata": {},
   "outputs": [],
   "source": [
    "X_train, X_test, y_train, y_test = train_test_split(X,y,test_size=0.25,random_state=69)"
   ]
  },
  {
   "cell_type": "code",
   "execution_count": 13,
   "id": "random-arrival",
   "metadata": {},
   "outputs": [],
   "source": [
    "from sklearn.preprocessing import MinMaxScaler"
   ]
  },
  {
   "cell_type": "code",
   "execution_count": 14,
   "id": "irish-choice",
   "metadata": {},
   "outputs": [],
   "source": [
    "scaler = MinMaxScaler()"
   ]
  },
  {
   "cell_type": "code",
   "execution_count": 15,
   "id": "welsh-above",
   "metadata": {},
   "outputs": [
    {
     "data": {
      "text/plain": [
       "MinMaxScaler()"
      ]
     },
     "execution_count": 15,
     "metadata": {},
     "output_type": "execute_result"
    }
   ],
   "source": [
    "scaler.fit(X_train)"
   ]
  },
  {
   "cell_type": "code",
   "execution_count": 16,
   "id": "floating-sphere",
   "metadata": {},
   "outputs": [],
   "source": [
    "X_train = scaler.transform(X_train)\n",
    "X_test = scaler.transform(X_test)"
   ]
  },
  {
   "cell_type": "code",
   "execution_count": 17,
   "id": "healthy-suite",
   "metadata": {},
   "outputs": [],
   "source": [
    "import tensorflow as tf\n",
    "from tensorflow.keras.models import Sequential\n",
    "from tensorflow.keras.layers import Dense, Activation,Dropout"
   ]
  },
  {
   "cell_type": "code",
   "execution_count": 18,
   "id": "danish-tonight",
   "metadata": {},
   "outputs": [
    {
     "data": {
      "text/plain": [
       "(7500, 10)"
      ]
     },
     "execution_count": 18,
     "metadata": {},
     "output_type": "execute_result"
    }
   ],
   "source": [
    "X_train.shape"
   ]
  },
  {
   "cell_type": "code",
   "execution_count": 19,
   "id": "regional-consensus",
   "metadata": {},
   "outputs": [],
   "source": [
    "model = Sequential()\n",
    "\n",
    "model.add(Dense(units=10,activation='relu'))\n",
    "\n",
    "model.add(Dense(units=5,activation='relu'))\n",
    "\n",
    "\n",
    "model.add(Dense(units=1,activation='sigmoid'))\n",
    "\n",
    "model.compile(loss='binary_crossentropy', optimizer='adam')"
   ]
  },
  {
   "cell_type": "code",
   "execution_count": 20,
   "id": "operational-northern",
   "metadata": {},
   "outputs": [
    {
     "name": "stdout",
     "output_type": "stream",
     "text": [
      "Epoch 1/100\n",
      "235/235 [==============================] - 0s 2ms/step - loss: 0.5699 - val_loss: 0.5121\n",
      "Epoch 2/100\n",
      "235/235 [==============================] - 0s 969us/step - loss: 0.4856 - val_loss: 0.4993\n",
      "Epoch 3/100\n",
      "235/235 [==============================] - 0s 921us/step - loss: 0.4750 - val_loss: 0.4889\n",
      "Epoch 4/100\n",
      "235/235 [==============================] - 0s 928us/step - loss: 0.4667 - val_loss: 0.4819\n",
      "Epoch 5/100\n",
      "235/235 [==============================] - 0s 836us/step - loss: 0.4607 - val_loss: 0.4778\n",
      "Epoch 6/100\n",
      "235/235 [==============================] - 0s 862us/step - loss: 0.4555 - val_loss: 0.4719\n",
      "Epoch 7/100\n",
      "235/235 [==============================] - 0s 918us/step - loss: 0.4507 - val_loss: 0.4660\n",
      "Epoch 8/100\n",
      "235/235 [==============================] - 0s 914us/step - loss: 0.4452 - val_loss: 0.4623\n",
      "Epoch 9/100\n",
      "235/235 [==============================] - 0s 837us/step - loss: 0.4420 - val_loss: 0.4563\n",
      "Epoch 10/100\n",
      "235/235 [==============================] - 0s 866us/step - loss: 0.4379 - val_loss: 0.4567\n",
      "Epoch 11/100\n",
      "235/235 [==============================] - 0s 922us/step - loss: 0.4356 - val_loss: 0.4558\n",
      "Epoch 12/100\n",
      "235/235 [==============================] - 0s 841us/step - loss: 0.4341 - val_loss: 0.4480\n",
      "Epoch 13/100\n",
      "235/235 [==============================] - 0s 856us/step - loss: 0.4315 - val_loss: 0.4454\n",
      "Epoch 14/100\n",
      "235/235 [==============================] - 0s 900us/step - loss: 0.4298 - val_loss: 0.4442\n",
      "Epoch 15/100\n",
      "235/235 [==============================] - 0s 866us/step - loss: 0.4271 - val_loss: 0.4399\n",
      "Epoch 16/100\n",
      "235/235 [==============================] - 0s 767us/step - loss: 0.4239 - val_loss: 0.4351\n",
      "Epoch 17/100\n",
      "235/235 [==============================] - 0s 929us/step - loss: 0.4207 - val_loss: 0.4327\n",
      "Epoch 18/100\n",
      "235/235 [==============================] - 0s 840us/step - loss: 0.4173 - val_loss: 0.4272\n",
      "Epoch 19/100\n",
      "235/235 [==============================] - 0s 860us/step - loss: 0.4150 - val_loss: 0.4235\n",
      "Epoch 20/100\n",
      "235/235 [==============================] - 0s 923us/step - loss: 0.4110 - val_loss: 0.4209\n",
      "Epoch 21/100\n",
      "235/235 [==============================] - 0s 897us/step - loss: 0.4087 - val_loss: 0.4163\n",
      "Epoch 22/100\n",
      "235/235 [==============================] - 0s 864us/step - loss: 0.4053 - val_loss: 0.4121\n",
      "Epoch 23/100\n",
      "235/235 [==============================] - 0s 917us/step - loss: 0.4018 - val_loss: 0.4093\n",
      "Epoch 24/100\n",
      "235/235 [==============================] - 0s 841us/step - loss: 0.3979 - val_loss: 0.4040\n",
      "Epoch 25/100\n",
      "235/235 [==============================] - 0s 921us/step - loss: 0.3949 - val_loss: 0.4006\n",
      "Epoch 26/100\n",
      "235/235 [==============================] - 0s 776us/step - loss: 0.3913 - val_loss: 0.3981\n",
      "Epoch 27/100\n",
      "235/235 [==============================] - 0s 929us/step - loss: 0.3882 - val_loss: 0.3959\n",
      "Epoch 28/100\n",
      "235/235 [==============================] - 0s 922us/step - loss: 0.3860 - val_loss: 0.3934\n",
      "Epoch 29/100\n",
      "235/235 [==============================] - 0s 841us/step - loss: 0.3839 - val_loss: 0.3912\n",
      "Epoch 30/100\n",
      "235/235 [==============================] - 0s 891us/step - loss: 0.3814 - val_loss: 0.3893\n",
      "Epoch 31/100\n",
      "235/235 [==============================] - 0s 841us/step - loss: 0.3801 - val_loss: 0.3868\n",
      "Epoch 32/100\n",
      "235/235 [==============================] - 0s 892us/step - loss: 0.3781 - val_loss: 0.3854\n",
      "Epoch 33/100\n",
      "235/235 [==============================] - 0s 859us/step - loss: 0.3768 - val_loss: 0.3841\n",
      "Epoch 34/100\n",
      "235/235 [==============================] - 0s 865us/step - loss: 0.3754 - val_loss: 0.3826\n",
      "Epoch 35/100\n",
      "235/235 [==============================] - 0s 920us/step - loss: 0.3732 - val_loss: 0.3830\n",
      "Epoch 36/100\n",
      "235/235 [==============================] - 0s 842us/step - loss: 0.3716 - val_loss: 0.3819\n",
      "Epoch 37/100\n",
      "235/235 [==============================] - 0s 925us/step - loss: 0.3713 - val_loss: 0.3801\n",
      "Epoch 38/100\n",
      "235/235 [==============================] - 0s 845us/step - loss: 0.3702 - val_loss: 0.3777\n",
      "Epoch 39/100\n",
      "235/235 [==============================] - 0s 898us/step - loss: 0.3687 - val_loss: 0.3785\n",
      "Epoch 40/100\n",
      "235/235 [==============================] - 0s 844us/step - loss: 0.3678 - val_loss: 0.3778\n",
      "Epoch 41/100\n",
      "235/235 [==============================] - 0s 882us/step - loss: 0.3668 - val_loss: 0.3754\n",
      "Epoch 42/100\n",
      "235/235 [==============================] - 0s 843us/step - loss: 0.3664 - val_loss: 0.3749\n",
      "Epoch 43/100\n",
      "235/235 [==============================] - 0s 916us/step - loss: 0.3651 - val_loss: 0.3730\n",
      "Epoch 44/100\n",
      "235/235 [==============================] - 0s 898us/step - loss: 0.3640 - val_loss: 0.3719\n",
      "Epoch 45/100\n",
      "235/235 [==============================] - 0s 859us/step - loss: 0.3642 - val_loss: 0.3716\n",
      "Epoch 46/100\n",
      "235/235 [==============================] - 0s 846us/step - loss: 0.3629 - val_loss: 0.3717\n",
      "Epoch 47/100\n",
      "235/235 [==============================] - 0s 892us/step - loss: 0.3623 - val_loss: 0.3715\n",
      "Epoch 48/100\n",
      "235/235 [==============================] - 0s 910us/step - loss: 0.3618 - val_loss: 0.3695\n",
      "Epoch 49/100\n",
      "235/235 [==============================] - 0s 883us/step - loss: 0.3608 - val_loss: 0.3708\n",
      "Epoch 50/100\n",
      "235/235 [==============================] - 0s 898us/step - loss: 0.3607 - val_loss: 0.3693\n",
      "Epoch 51/100\n",
      "235/235 [==============================] - 0s 890us/step - loss: 0.3596 - val_loss: 0.3676\n",
      "Epoch 52/100\n",
      "235/235 [==============================] - 0s 845us/step - loss: 0.3595 - val_loss: 0.3672\n",
      "Epoch 53/100\n",
      "235/235 [==============================] - 0s 845us/step - loss: 0.3590 - val_loss: 0.3686\n",
      "Epoch 54/100\n",
      "235/235 [==============================] - 0s 1ms/step - loss: 0.3582 - val_loss: 0.3672\n",
      "Epoch 55/100\n",
      "235/235 [==============================] - 0s 910us/step - loss: 0.3579 - val_loss: 0.3669\n",
      "Epoch 56/100\n",
      "235/235 [==============================] - 0s 895us/step - loss: 0.3570 - val_loss: 0.3654\n",
      "Epoch 57/100\n",
      "235/235 [==============================] - 0s 856us/step - loss: 0.3571 - val_loss: 0.3660\n",
      "Epoch 58/100\n",
      "235/235 [==============================] - 0s 924us/step - loss: 0.3569 - val_loss: 0.3647\n",
      "Epoch 59/100\n",
      "235/235 [==============================] - 0s 913us/step - loss: 0.3569 - val_loss: 0.3703\n",
      "Epoch 60/100\n",
      "235/235 [==============================] - 0s 896us/step - loss: 0.3557 - val_loss: 0.3642\n",
      "Epoch 61/100\n",
      "235/235 [==============================] - 0s 863us/step - loss: 0.3559 - val_loss: 0.3650\n",
      "Epoch 62/100\n",
      "235/235 [==============================] - 0s 879us/step - loss: 0.3548 - val_loss: 0.3643\n",
      "Epoch 63/100\n",
      "235/235 [==============================] - 0s 876us/step - loss: 0.3546 - val_loss: 0.3630\n",
      "Epoch 64/100\n",
      "235/235 [==============================] - 0s 904us/step - loss: 0.3544 - val_loss: 0.3688\n",
      "Epoch 65/100\n",
      "235/235 [==============================] - 0s 933us/step - loss: 0.3545 - val_loss: 0.3623\n",
      "Epoch 66/100\n",
      "235/235 [==============================] - 0s 1ms/step - loss: 0.3540 - val_loss: 0.3640\n",
      "Epoch 67/100\n",
      "235/235 [==============================] - 0s 881us/step - loss: 0.3539 - val_loss: 0.3613\n",
      "Epoch 68/100\n",
      "235/235 [==============================] - 0s 866us/step - loss: 0.3532 - val_loss: 0.3613\n",
      "Epoch 69/100\n",
      "235/235 [==============================] - 0s 877us/step - loss: 0.3531 - val_loss: 0.3610\n",
      "Epoch 70/100\n",
      "235/235 [==============================] - 0s 904us/step - loss: 0.3528 - val_loss: 0.3607\n",
      "Epoch 71/100\n",
      "235/235 [==============================] - 0s 866us/step - loss: 0.3526 - val_loss: 0.3620\n",
      "Epoch 72/100\n",
      "235/235 [==============================] - 0s 889us/step - loss: 0.3526 - val_loss: 0.3593\n",
      "Epoch 73/100\n",
      "235/235 [==============================] - 0s 866us/step - loss: 0.3516 - val_loss: 0.3617\n",
      "Epoch 74/100\n",
      "235/235 [==============================] - 0s 867us/step - loss: 0.3518 - val_loss: 0.3596\n",
      "Epoch 75/100\n",
      "235/235 [==============================] - 0s 875us/step - loss: 0.3507 - val_loss: 0.3610\n",
      "Epoch 76/100\n",
      "235/235 [==============================] - 0s 875us/step - loss: 0.3516 - val_loss: 0.3586\n",
      "Epoch 77/100\n",
      "235/235 [==============================] - 0s 889us/step - loss: 0.3509 - val_loss: 0.3581\n",
      "Epoch 78/100\n",
      "235/235 [==============================] - 0s 904us/step - loss: 0.3507 - val_loss: 0.3585\n",
      "Epoch 79/100\n",
      "235/235 [==============================] - 0s 901us/step - loss: 0.3503 - val_loss: 0.3592\n"
     ]
    },
    {
     "name": "stdout",
     "output_type": "stream",
     "text": [
      "Epoch 80/100\n",
      "235/235 [==============================] - 0s 871us/step - loss: 0.3512 - val_loss: 0.3579\n",
      "Epoch 81/100\n",
      "235/235 [==============================] - 0s 908us/step - loss: 0.3505 - val_loss: 0.3572\n",
      "Epoch 82/100\n",
      "235/235 [==============================] - 0s 879us/step - loss: 0.3508 - val_loss: 0.3579\n",
      "Epoch 83/100\n",
      "235/235 [==============================] - 0s 743us/step - loss: 0.3497 - val_loss: 0.3578\n",
      "Epoch 84/100\n",
      "235/235 [==============================] - 0s 929us/step - loss: 0.3497 - val_loss: 0.3573\n",
      "Epoch 85/100\n",
      "235/235 [==============================] - 0s 764us/step - loss: 0.3500 - val_loss: 0.3577\n",
      "Epoch 86/100\n",
      "235/235 [==============================] - 0s 879us/step - loss: 0.3500 - val_loss: 0.3584\n",
      "Epoch 87/100\n",
      "235/235 [==============================] - 0s 805us/step - loss: 0.3492 - val_loss: 0.3564\n",
      "Epoch 88/100\n",
      "235/235 [==============================] - 0s 862us/step - loss: 0.3493 - val_loss: 0.3569\n",
      "Epoch 89/100\n",
      "235/235 [==============================] - 0s 760us/step - loss: 0.3484 - val_loss: 0.3581\n",
      "Epoch 90/100\n",
      "235/235 [==============================] - 0s 925us/step - loss: 0.3487 - val_loss: 0.3563\n",
      "Epoch 91/100\n",
      "235/235 [==============================] - 0s 869us/step - loss: 0.3489 - val_loss: 0.3563\n",
      "Epoch 92/100\n",
      "235/235 [==============================] - 0s 848us/step - loss: 0.3481 - val_loss: 0.3566\n",
      "Epoch 93/100\n",
      "235/235 [==============================] - 0s 743us/step - loss: 0.3486 - val_loss: 0.3576\n",
      "Epoch 94/100\n",
      "235/235 [==============================] - 0s 926us/step - loss: 0.3480 - val_loss: 0.3564\n",
      "Epoch 95/100\n",
      "235/235 [==============================] - 0s 879us/step - loss: 0.3476 - val_loss: 0.3562\n",
      "Epoch 96/100\n",
      "235/235 [==============================] - 0s 805us/step - loss: 0.3485 - val_loss: 0.3562\n",
      "Epoch 97/100\n",
      "235/235 [==============================] - 0s 909us/step - loss: 0.3478 - val_loss: 0.3592\n",
      "Epoch 98/100\n",
      "235/235 [==============================] - 0s 862us/step - loss: 0.3479 - val_loss: 0.3586\n",
      "Epoch 99/100\n",
      "235/235 [==============================] - 0s 768us/step - loss: 0.3489 - val_loss: 0.3566\n",
      "Epoch 100/100\n",
      "235/235 [==============================] - 0s 895us/step - loss: 0.3469 - val_loss: 0.3554\n",
      "Wall time: 22.1 s\n"
     ]
    },
    {
     "data": {
      "text/plain": [
       "<tensorflow.python.keras.callbacks.History at 0x21705d98a48>"
      ]
     },
     "execution_count": 20,
     "metadata": {},
     "output_type": "execute_result"
    }
   ],
   "source": [
    "%%time\n",
    "\n",
    "model.fit(x=X_train, \n",
    "          y=y_train, \n",
    "          epochs=100,\n",
    "          validation_data=(X_test, y_test), verbose=1\n",
    "          )"
   ]
  },
  {
   "cell_type": "code",
   "execution_count": 21,
   "id": "urban-billy",
   "metadata": {},
   "outputs": [],
   "source": [
    "model_loss = pd.DataFrame(model.history.history)"
   ]
  },
  {
   "cell_type": "code",
   "execution_count": 22,
   "id": "undefined-shoot",
   "metadata": {},
   "outputs": [
    {
     "data": {
      "text/plain": [
       "<AxesSubplot:>"
      ]
     },
     "execution_count": 22,
     "metadata": {},
     "output_type": "execute_result"
    },
    {
     "data": {
      "image/png": "[encoded data removed]",
      "text/plain": [
       "<Figure size 432x288 with 1 Axes>"
      ]
     },
     "metadata": {
      "needs_background": "light"
     },
     "output_type": "display_data"
    }
   ],
   "source": [
    "model_loss.plot()"
   ]
  },
  {
   "cell_type": "code",
   "execution_count": 23,
   "id": "forbidden-howard",
   "metadata": {},
   "outputs": [
    {
     "name": "stdout",
     "output_type": "stream",
     "text": [
      "WARNING:tensorflow:From <ipython-input-23-bc83193b8b59>:1: Sequential.predict_classes (from tensorflow.python.keras.engine.sequential) is deprecated and will be removed after 2021-01-01.\n",
      "Instructions for updating:\n",
      "Please use instead:* `np.argmax(model.predict(x), axis=-1)`,   if your model does multi-class classification   (e.g. if it uses a `softmax` last-layer activation).* `(model.predict(x) > 0.5).astype(\"int32\")`,   if your model does binary classification   (e.g. if it uses a `sigmoid` last-layer activation).\n"
     ]
    }
   ],
   "source": [
    "predictions = model.predict_classes(X_test)"
   ]
  },
  {
   "cell_type": "code",
   "execution_count": 24,
   "id": "daily-tracker",
   "metadata": {},
   "outputs": [],
   "source": [
    "from sklearn.metrics import classification_report,confusion_matrix"
   ]
  },
  {
   "cell_type": "code",
   "execution_count": 25,
   "id": "binding-zimbabwe",
   "metadata": {},
   "outputs": [
    {
     "name": "stdout",
     "output_type": "stream",
     "text": [
      "              precision    recall  f1-score   support\n",
      "\n",
      "           0       0.87      0.96      0.91      1965\n",
      "           1       0.76      0.46      0.57       535\n",
      "\n",
      "    accuracy                           0.85      2500\n",
      "   macro avg       0.81      0.71      0.74      2500\n",
      "weighted avg       0.84      0.85      0.84      2500\n",
      "\n"
     ]
    }
   ],
   "source": [
    "print(classification_report(y_test,predictions))"
   ]
  },
  {
   "cell_type": "code",
   "execution_count": 26,
   "id": "executed-redhead",
   "metadata": {
    "scrolled": true
   },
   "outputs": [
    {
     "name": "stdout",
     "output_type": "stream",
     "text": [
      "[[1887   78]\n",
      " [ 290  245]]\n"
     ]
    }
   ],
   "source": [
    "print(confusion_matrix(y_test,predictions))"
   ]
  },
  {
   "cell_type": "code",
   "execution_count": 27,
   "id": "environmental-banking",
   "metadata": {},
   "outputs": [
    {
     "data": {
      "text/plain": [
       "Index(['CreditScore', 'Geography', 'Gender', 'Age', 'Tenure', 'Balance',\n",
       "       'NumOfProducts', 'HasCrCard', 'IsActiveMember', 'EstimatedSalary',\n",
       "       'Exited'],\n",
       "      dtype='object')"
      ]
     },
     "execution_count": 27,
     "metadata": {},
     "output_type": "execute_result"
    }
   ],
   "source": [
    "df.columns"
   ]
  },
  {
   "cell_type": "code",
   "execution_count": 28,
   "id": "loving-chester",
   "metadata": {},
   "outputs": [
    {
     "data": {
      "text/html": [
       "<div>\n",
       "<style scoped>\n",
       "    .dataframe tbody tr th:only-of-type {\n",
       "        vertical-align: middle;\n",
       "    }\n",
       "\n",
       "    .dataframe tbody tr th {\n",
       "        vertical-align: top;\n",
       "    }\n",
       "\n",
       "    .dataframe thead th {\n",
       "        text-align: right;\n",
       "    }\n",
       "</style>\n",
       "<table border=\"1\" class=\"dataframe\">\n",
       "  <thead>\n",
       "    <tr style=\"text-align: right;\">\n",
       "      <th></th>\n",
       "      <th>CreditScore</th>\n",
       "      <th>Geography</th>\n",
       "      <th>Gender</th>\n",
       "      <th>Age</th>\n",
       "      <th>Tenure</th>\n",
       "      <th>Balance</th>\n",
       "      <th>NumOfProducts</th>\n",
       "      <th>HasCrCard</th>\n",
       "      <th>IsActiveMember</th>\n",
       "      <th>EstimatedSalary</th>\n",
       "      <th>Exited</th>\n",
       "    </tr>\n",
       "    <tr>\n",
       "      <th>RowNumber</th>\n",
       "      <th></th>\n",
       "      <th></th>\n",
       "      <th></th>\n",
       "      <th></th>\n",
       "      <th></th>\n",
       "      <th></th>\n",
       "      <th></th>\n",
       "      <th></th>\n",
       "      <th></th>\n",
       "      <th></th>\n",
       "      <th></th>\n",
       "    </tr>\n",
       "  </thead>\n",
       "  <tbody>\n",
       "    <tr>\n",
       "      <th>1</th>\n",
       "      <td>619</td>\n",
       "      <td>0</td>\n",
       "      <td>0</td>\n",
       "      <td>42</td>\n",
       "      <td>2</td>\n",
       "      <td>0.0</td>\n",
       "      <td>1</td>\n",
       "      <td>1</td>\n",
       "      <td>1</td>\n",
       "      <td>101348.88</td>\n",
       "      <td>1</td>\n",
       "    </tr>\n",
       "  </tbody>\n",
       "</table>\n",
       "</div>"
      ],
      "text/plain": [
       "           CreditScore  Geography  Gender  Age  Tenure  Balance  \\\n",
       "RowNumber                                                         \n",
       "1                  619          0       0   42       2      0.0   \n",
       "\n",
       "           NumOfProducts  HasCrCard  IsActiveMember  EstimatedSalary  Exited  \n",
       "RowNumber                                                                     \n",
       "1                      1          1               1        101348.88       1  "
      ]
     },
     "execution_count": 28,
     "metadata": {},
     "output_type": "execute_result"
    }
   ],
   "source": [
    "df.head(1)"
   ]
  },
  {
   "cell_type": "code",
   "execution_count": 37,
   "id": "stopped-queens",
   "metadata": {},
   "outputs": [],
   "source": [
    "new_input = pd.DataFrame([[499, 'France', 'Male', 39, 3, 50000.00, 2, 1, 1, 60000.00]], columns= ['CreditScore', 'Geography', 'Gender', 'Age', 'Tenure', 'Balance',\n",
    "       'NumOfProducts', 'HasCrCard', 'IsActiveMember', 'EstimatedSalary'])"
   ]
  },
  {
   "cell_type": "code",
   "execution_count": 38,
   "id": "understanding-skirt",
   "metadata": {},
   "outputs": [
    {
     "data": {
      "text/html": [
       "<div>\n",
       "<style scoped>\n",
       "    .dataframe tbody tr th:only-of-type {\n",
       "        vertical-align: middle;\n",
       "    }\n",
       "\n",
       "    .dataframe tbody tr th {\n",
       "        vertical-align: top;\n",
       "    }\n",
       "\n",
       "    .dataframe thead th {\n",
       "        text-align: right;\n",
       "    }\n",
       "</style>\n",
       "<table border=\"1\" class=\"dataframe\">\n",
       "  <thead>\n",
       "    <tr style=\"text-align: right;\">\n",
       "      <th></th>\n",
       "      <th>CreditScore</th>\n",
       "      <th>Geography</th>\n",
       "      <th>Gender</th>\n",
       "      <th>Age</th>\n",
       "      <th>Tenure</th>\n",
       "      <th>Balance</th>\n",
       "      <th>NumOfProducts</th>\n",
       "      <th>HasCrCard</th>\n",
       "      <th>IsActiveMember</th>\n",
       "      <th>EstimatedSalary</th>\n",
       "    </tr>\n",
       "  </thead>\n",
       "  <tbody>\n",
       "    <tr>\n",
       "      <th>0</th>\n",
       "      <td>499</td>\n",
       "      <td>France</td>\n",
       "      <td>Male</td>\n",
       "      <td>39</td>\n",
       "      <td>3</td>\n",
       "      <td>50000.0</td>\n",
       "      <td>2</td>\n",
       "      <td>1</td>\n",
       "      <td>1</td>\n",
       "      <td>60000.0</td>\n",
       "    </tr>\n",
       "  </tbody>\n",
       "</table>\n",
       "</div>"
      ],
      "text/plain": [
       "   CreditScore Geography Gender  Age  Tenure  Balance  NumOfProducts  \\\n",
       "0          499    France   Male   39       3  50000.0              2   \n",
       "\n",
       "   HasCrCard  IsActiveMember  EstimatedSalary  \n",
       "0          1               1          60000.0  "
      ]
     },
     "execution_count": 38,
     "metadata": {},
     "output_type": "execute_result"
    }
   ],
   "source": [
    "new_input"
   ]
  },
  {
   "cell_type": "code",
   "execution_count": 39,
   "id": "controlled-business",
   "metadata": {},
   "outputs": [],
   "source": [
    "new_input['Geography'] = labelencoder_Geo.transform(new_input['Geography'])"
   ]
  },
  {
   "cell_type": "code",
   "execution_count": 40,
   "id": "female-murray",
   "metadata": {},
   "outputs": [],
   "source": [
    "new_input['Gender'] = labelencoder_Gender.transform(new_input['Gender'])"
   ]
  },
  {
   "cell_type": "code",
   "execution_count": 41,
   "id": "material-aerospace",
   "metadata": {},
   "outputs": [
    {
     "data": {
      "text/html": [
       "<div>\n",
       "<style scoped>\n",
       "    .dataframe tbody tr th:only-of-type {\n",
       "        vertical-align: middle;\n",
       "    }\n",
       "\n",
       "    .dataframe tbody tr th {\n",
       "        vertical-align: top;\n",
       "    }\n",
       "\n",
       "    .dataframe thead th {\n",
       "        text-align: right;\n",
       "    }\n",
       "</style>\n",
       "<table border=\"1\" class=\"dataframe\">\n",
       "  <thead>\n",
       "    <tr style=\"text-align: right;\">\n",
       "      <th></th>\n",
       "      <th>CreditScore</th>\n",
       "      <th>Geography</th>\n",
       "      <th>Gender</th>\n",
       "      <th>Age</th>\n",
       "      <th>Tenure</th>\n",
       "      <th>Balance</th>\n",
       "      <th>NumOfProducts</th>\n",
       "      <th>HasCrCard</th>\n",
       "      <th>IsActiveMember</th>\n",
       "      <th>EstimatedSalary</th>\n",
       "    </tr>\n",
       "  </thead>\n",
       "  <tbody>\n",
       "    <tr>\n",
       "      <th>0</th>\n",
       "      <td>499</td>\n",
       "      <td>0</td>\n",
       "      <td>1</td>\n",
       "      <td>39</td>\n",
       "      <td>3</td>\n",
       "      <td>50000.0</td>\n",
       "      <td>2</td>\n",
       "      <td>1</td>\n",
       "      <td>1</td>\n",
       "      <td>60000.0</td>\n",
       "    </tr>\n",
       "  </tbody>\n",
       "</table>\n",
       "</div>"
      ],
      "text/plain": [
       "   CreditScore  Geography  Gender  Age  Tenure  Balance  NumOfProducts  \\\n",
       "0          499          0       1   39       3  50000.0              2   \n",
       "\n",
       "   HasCrCard  IsActiveMember  EstimatedSalary  \n",
       "0          1               1          60000.0  "
      ]
     },
     "execution_count": 41,
     "metadata": {},
     "output_type": "execute_result"
    }
   ],
   "source": [
    "new_input"
   ]
  },
  {
   "cell_type": "code",
   "execution_count": 42,
   "id": "efficient-community",
   "metadata": {},
   "outputs": [],
   "source": [
    "new_input = scaler.transform(new_input)"
   ]
  },
  {
   "cell_type": "code",
   "execution_count": 35,
   "id": "understanding-service",
   "metadata": {},
   "outputs": [
    {
     "data": {
      "text/plain": [
       "array([[0.]], dtype=float32)"
      ]
     },
     "execution_count": 35,
     "metadata": {},
     "output_type": "execute_result"
    }
   ],
   "source": [
    "np.round(model.predict(new_input)) "
   ]
  },
  {
   "cell_type": "code",
   "execution_count": null,
   "id": "middle-impact",
   "metadata": {},
   "outputs": [],
   "source": []
  }
 ],
 "metadata": {
  "kernelspec": {
   "display_name": "Python 3",
   "language": "python",
   "name": "python3"
  },
  "language_info": {
   "codemirror_mode": {
    "name": "ipython",
    "version": 3
   },
   "file_extension": ".py",
   "mimetype": "text/x-python",
   "name": "python",
   "nbconvert_exporter": "python",
   "pygments_lexer": "ipython3",
   "version": "3.7.9"
  }
 },
 "nbformat": 4,
 "nbformat_minor": 5
}
